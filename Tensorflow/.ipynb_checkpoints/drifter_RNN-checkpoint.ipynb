{
 "cells": [
  {
   "cell_type": "code",
   "execution_count": 1,
   "metadata": {
    "collapsed": false
   },
   "outputs": [],
   "source": [
    "import os\n",
    "import tensorflow as tf\n",
    "import numpy as np\n",
    "import matplotlib.pyplot as plt\n",
    "import xlsxwriter\n",
    "import pandas as pd\n",
    "import time\n",
    "import openpyxl\n",
    "\n",
    "gpu_options = tf.GPUOptions(per_process_gpu_memory_fraction=0.5)\n",
    "sess = tf.Session(config=tf.ConfigProto(gpu_options=gpu_options))"
   ]
  },
  {
   "cell_type": "code",
   "execution_count": 2,
   "metadata": {
    "collapsed": false
   },
   "outputs": [],
   "source": [
    "# ---------- RNN Network ---------- #\n",
    "batch_size = 1\n",
    "rnn_size = 4\n",
    "learing_rate = 0.01\n",
    "\n",
    "with tf.variable_scope(\"RNN1\") :\n",
    "    #tf.set_random_seed(seed)\n",
    "    # input place holders\n",
    "    data = tf.placeholder(tf.float32, [None, 4, 1])\n",
    "    y_lon = tf.placeholder(tf.float32, [None, 1])\n",
    "    y_lat = tf.placeholder(tf.float32, [None, 1])\n",
    "\n",
    "    # RNN Network\n",
    "    rnn_cell = tf.contrib.rnn.BasicRNNCell(rnn_size)\n",
    "    val, _state = tf.nn.dynamic_rnn(rnn_cell, data, dtype=tf.float32)\n",
    "    pred = tf.contrib.layers.fully_connected(val[:, -1], 1, activation_fn=None)\n",
    "\n",
    "    # cost\n",
    "    cost_lon = tf.reduce_mean(tf.square(pred - y_lon))\n",
    "    cost_lat = tf.reduce_mean(tf.square(pred - y_lat))\n",
    "\n",
    "    # optimizer\n",
    "    optimizer = tf.train.AdamOptimizer(learing_rate)\n",
    "    train_lon = optimizer.minimize(cost_lon)\n",
    "    train_lat = optimizer.minimize(cost_lat)\n",
    "\n",
    "    # RMSE / MAE\n",
    "    targets = tf.placeholder(tf.float32, [None, 1])\n",
    "    predictions = tf.placeholder(tf.float32, [None, 1])\n",
    "    rmse = tf.sqrt(tf.reduce_mean(tf.square(targets - predictions)))\n",
    "    mae = tf.reduce_mean(tf.abs(targets - predictions))"
   ]
  },
  {
   "cell_type": "code",
   "execution_count": 3,
   "metadata": {
    "collapsed": false
   },
   "outputs": [],
   "source": [
    "# 트레이닝, 테스트 진행 함수 #\n",
    "\n",
    "def NetworkFunc(step) :\n",
    "    print(\"step\", step+1, \"...\")\n",
    "    with tf.Session() as sess:\n",
    "        init = tf.global_variables_initializer()\n",
    "        sess.run(init)\n",
    "\n",
    "    # Training\n",
    "        for step in range(lon_epoch) :\n",
    "            _, step_loss_lon = sess.run([train_lon, cost_lon], feed_dict={data:x_train, y_lon:lon_train})\n",
    "    # Test\n",
    "        test_lon = sess.run(pred, feed_dict={data:x_test})\n",
    "        sess.close()\n",
    "\n",
    "    with tf.Session() as sess:\n",
    "        init = tf.global_variables_initializer()\n",
    "        sess.run(init)\n",
    "\n",
    "    # Training\n",
    "        for step in range(lat_epoch) :\n",
    "            _, step_loss_lat = sess.run([train_lat, cost_lat], feed_dict={data:x_train, y_lat:lat_train})\n",
    "    # Test\n",
    "        test_lat = sess.run(pred, feed_dict={data:x_test})\n",
    "        sess.close()\n",
    "\n",
    "    return test_lon, test_lat"
   ]
  },
  {
   "cell_type": "code",
   "execution_count": 5,
   "metadata": {
    "collapsed": false,
    "scrolled": true
   },
   "outputs": [
    {
     "name": "stdout",
     "output_type": "stream",
     "text": [
      "step 1 ...\n",
      "Case 01 Complete\n",
      "step 1 ...\n",
      "Case 05 Complete\n",
      "step 1 ...\n",
      "Case 06 Complete\n",
      "step 1 ...\n",
      "Case 07 Complete\n",
      "Time : 3.4843788146972656\n"
     ]
    }
   ],
   "source": [
    "# 데이터 불러오기 및 변환, 모델 실행 및 결과 저장 등 #\n",
    "\n",
    "start_time = time.time()\n",
    "\n",
    "case_list = ['01', '05', '06', '07']\n",
    "\n",
    "for c in case_list :\n",
    "    writer = pd.ExcelWriter(\"./Result/case\" + c + \"_RNN.xlsx\", engine='xlsxwriter')\n",
    "    \n",
    "    data_trainSet = open('./Data/cross_4attr/relTrain_case' + c + '.dat')\n",
    "    data_testSet = open('./Data/cross_4attr/relTest_case' + c + '.dat')\n",
    "\n",
    "    read_data_trainSet = np.loadtxt(data_trainSet)\n",
    "    read_data_testSet = np.loadtxt(data_testSet)\n",
    "\n",
    "    data_trainSet.close()\n",
    "    data_testSet.close()\n",
    "\n",
    "    repeatCount = 1\n",
    "    epoch = 2500\n",
    "\n",
    "    lon_epoch = epoch\n",
    "    lat_epoch = epoch\n",
    "\n",
    "    test_lon = 0\n",
    "    test_lat = 0\n",
    "\n",
    "    lon_train = read_data_trainSet[:,0]\n",
    "    lat_train = read_data_trainSet[:,1]\n",
    "    lon_test = read_data_testSet[:,0]\n",
    "    lat_test = read_data_testSet[:,1]\n",
    "    y_train = read_data_trainSet[:,0:2]\n",
    "    y_test = read_data_testSet[:,0:2]\n",
    "\n",
    "    lon_train = lon_train.reshape(len(np.atleast_1d(lon_train)), 1)\n",
    "    lat_train = lat_train.reshape(len(np.atleast_1d(lat_train)), 1)\n",
    "\n",
    "    y_train = y_train.reshape(len(np.atleast_1d(y_train)), 2, 1)\n",
    "    x_train = read_data_trainSet[:,2:6]\n",
    "    x_train = x_train.reshape(len(np.atleast_1d(x_train)), 4, 1)\n",
    "\n",
    "    lon_test = lon_test.reshape(len(np.atleast_1d(lon_test)), 1)\n",
    "    lat_test = lat_test.reshape(len(np.atleast_1d(lat_test)), 1)\n",
    "\n",
    "    y_test = y_test.reshape(len(np.atleast_1d(y_test)), 2, 1)\n",
    "    x_test = read_data_testSet[:,2:6]\n",
    "    x_test = x_test.reshape(len(np.atleast_1d(x_test)), 4, 1)\n",
    "\n",
    "    for count in range(repeatCount) :                \n",
    "        test_lon, test_lat = NetworkFunc(count)\n",
    "\n",
    "        df = pd.DataFrame(test_lon, columns=['Lon'])\n",
    "        df1 = pd.DataFrame(test_lat, columns=['Lat'])\n",
    "        df = pd.concat([df, df1], axis=1)\n",
    "        sheet_name = c + '_' + str(count+1)\n",
    "        df.to_excel(writer, sheet_name)\n",
    "\n",
    "    print(\"Case\", c, \"Complete\")\n",
    "\n",
    "writer.save()\n",
    "writer.close()\n",
    "end_time = time.time()\n",
    "\n",
    "print(\"Time :\", end_time - start_time)"
   ]
  },
  {
   "cell_type": "code",
   "execution_count": null,
   "metadata": {
    "collapsed": true
   },
   "outputs": [],
   "source": []
  }
 ],
 "metadata": {
  "kernelspec": {
   "display_name": "Python 3 (Tensorflow)",
   "language": "python",
   "name": "tensorflow"
  },
  "language_info": {
   "codemirror_mode": {
    "name": "ipython",
    "version": 3
   },
   "file_extension": ".py",
   "mimetype": "text/x-python",
   "name": "python",
   "nbconvert_exporter": "python",
   "pygments_lexer": "ipython3",
   "version": "3.6.2"
  }
 },
 "nbformat": 4,
 "nbformat_minor": 2
}
