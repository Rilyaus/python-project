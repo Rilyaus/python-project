{
 "cells": [
  {
   "cell_type": "code",
   "execution_count": 1,
   "metadata": {
    "collapsed": false
   },
   "outputs": [],
   "source": [
    "import numpy as np\n",
    "import pandas as pd\n",
    "import xlsxwriter"
   ]
  },
  {
   "cell_type": "code",
   "execution_count": 96,
   "metadata": {
    "collapsed": false
   },
   "outputs": [],
   "source": [
    "float_formatter = lambda x: \"%.4f\" % x\n",
    "np.set_printoptions(formatter={'float_kind':float_formatter})\n"
   ]
  },
  {
   "cell_type": "code",
   "execution_count": 97,
   "metadata": {
    "collapsed": false
   },
   "outputs": [],
   "source": [
    "cNum = ['01', '02', '03', '04', '06', '07', '08']\n",
    "\n",
    "for c in cNum :\n",
    "    data = open('./Data/NewData/04-04-' + c + '.dat')\n",
    "    read_data = np.loadtxt(data, skiprows=1)\n",
    "    data.close()\n",
    "\n",
    "    read_data_t = read_data[:,4:]\n",
    "    #read_data_t\n",
    "\n",
    "    parse_data = np.zeros((read_data_t.shape[0]-1,read_data_t.shape[1]-2))\n",
    "    for i in range(len(read_data)-1) :\n",
    "        parse_data[i,0] = read_data_t[i+1,0] - read_data_t[i,0]\n",
    "        parse_data[i,1] = read_data_t[i+1,1] - read_data_t[i,1]\n",
    "        #parse_data[i,2] = read_data_t[i+1,2] - read_data_t[i,2]\n",
    "        #parse_data[i,3] = read_data_t[i+1,3] - read_data_t[i,3]\n",
    "        parse_data[i,2:] = read_data_t[i,4:]\n",
    "    \n",
    "    \"\"\"for i in range(len(read_data)-1) :\n",
    "        parse_data[i,0:4] = read_data_t[i+1,0:4] - read_data_t[i,0:4]\n",
    "        parse_data[i,4:] = read_data_t[i,4:]\"\"\"\n",
    "\n",
    "    #parse_data_lon = np.delete(parse_data, 1, 1)    # lon\n",
    "    #parse_data_lat = np.delete(parse_data, 0, 1)    # lat\n",
    "\n",
    "    #parse_data2 = np.concatenate((parse_data, parse_data))  # 배열 연결하기(붙이기)\n",
    "        \n",
    "    np.savetxt('./Data/ParseNew/case' + c + '.dat', parse_data, delimiter=\" \", fmt=\"%.4f\")"
   ]
  },
  {
   "cell_type": "code",
   "execution_count": 94,
   "metadata": {
    "collapsed": false,
    "scrolled": true
   },
   "outputs": [
    {
     "data": {
      "text/plain": [
       "'for i in range(len(read_data)-1) :\\n    parse_data[i,0:4] = read_data_t[i+1,0:4] - read_data_t[i,0:4]\\n    parse_data[i,4:] = read_data_t[i,4:]'"
      ]
     },
     "execution_count": 94,
     "metadata": {},
     "output_type": "execute_result"
    }
   ],
   "source": [
    "for c in cNum :\n",
    "    data[c] = open('./Data/NewData/04-04-' + c + '.dat')\n",
    "\n",
    "for c in cNum :\n",
    "    data = open('./Data/NewData/04-04-' + c + '.dat')\n",
    "    read_data = np.loadtxt(data, skiprows=1)\n",
    "    data.close()\n",
    "\n",
    "    read_data_t = read_data[:,4:]\n",
    "    #read_data_t\n",
    "\n",
    "    parse_data = np.zeros((read_data_t.shape[0]-1,read_data_t.shape[1]-2))\n",
    "    for i in range(len(read_data)-1) :\n",
    "        parse_data[i,0] = read_data_t[i+1,0] - read_data_t[i,0]\n",
    "        parse_data[i,1] = read_data_t[i+1,1] - read_data_t[i,1]\n",
    "        #parse_data[i,2] = read_data_t[i+1,2] - read_data_t[i,2]\n",
    "        #parse_data[i,3] = read_data_t[i+1,3] - read_data_t[i,3]\n",
    "        parse_data[i,2:] = read_data_t[i,4:]\n",
    "        \n",
    "    np.savetxt('./Data/ParseNew/case' + c + '.dat', parse_data, delimiter=\" \", fmt=\"%.4f\")"
   ]
  },
  {
   "cell_type": "code",
   "execution_count": 75,
   "metadata": {
    "collapsed": true
   },
   "outputs": [],
   "source": [
    "writer  = pd.ExcelWriter('corr_wind_u.xlsx', engine='xlsxwriter')\n",
    "\n",
    "df = pd.DataFrame(p_wind_u)\n",
    "sheet_name = 'sheet1'\n",
    "df.to_excel(writer, sheet_name)\n",
    "\n",
    "writer.save()"
   ]
  },
  {
   "cell_type": "code",
   "execution_count": 13,
   "metadata": {
    "collapsed": true
   },
   "outputs": [],
   "source": [
    "writer  = pd.ExcelWriter('corr_wind_v.xlsx', engine='xlsxwriter')\n",
    "\n",
    "df = pd.DataFrame(p_wind_v)\n",
    "sheet_name = 'sheet1'\n",
    "df.to_excel(writer, sheet_name)\n",
    "\n",
    "writer.save()"
   ]
  },
  {
   "cell_type": "code",
   "execution_count": null,
   "metadata": {
    "collapsed": true
   },
   "outputs": [],
   "source": []
  }
 ],
 "metadata": {
  "kernelspec": {
   "display_name": "Python 3",
   "language": "python",
   "name": "python3"
  },
  "language_info": {
   "codemirror_mode": {
    "name": "ipython",
    "version": 3
   },
   "file_extension": ".py",
   "mimetype": "text/x-python",
   "name": "python",
   "nbconvert_exporter": "python",
   "pygments_lexer": "ipython3",
   "version": "3.6.0"
  }
 },
 "nbformat": 4,
 "nbformat_minor": 2
}
