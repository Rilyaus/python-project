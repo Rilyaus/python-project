{
 "cells": [
  {
   "cell_type": "code",
   "execution_count": 1,
   "metadata": {
    "collapsed": false
   },
   "outputs": [],
   "source": [
    "import numpy as np\n",
    "import pandas as pd\n",
    "import xlsxwriter"
   ]
  },
  {
   "cell_type": "code",
   "execution_count": 2,
   "metadata": {
    "collapsed": true
   },
   "outputs": [],
   "source": [
    "# clist = ['01', '02', '03', '04', '05', '06', '07', '08']\n",
    "clist = ['01', '05', '06', '07']\n",
    "\n",
    "for cNum in clist :\n",
    "    data = open('./Data/Data2015/Test_case' + cNum + '.dat')\n",
    "    read_data = np.loadtxt(data)\n",
    "    data.close()\n",
    "\n",
    "    float_formatter = lambda x: \"%.4f\" % x\n",
    "    np.set_printoptions(formatter={'float_kind':float_formatter})\n",
    "\n",
    "\n",
    "    velo_u = read_data[:, 2]\n",
    "    velo_v = read_data[:, 3]\n",
    "    wind_u = read_data[:, 4]\n",
    "    wind_v = read_data[:, 5]\n",
    "\n",
    "    p_velo_u = []\n",
    "    p_velo_v = []\n",
    "    p_wind_u = []\n",
    "    p_wind_v = []\n",
    "    for i in range(len(velo_u)-10) :\n",
    "        p_velo_u.append(velo_u[i:i+11])\n",
    "\n",
    "    for i in range(len(velo_v)-10) :\n",
    "        p_velo_v.append(velo_v[i:i+11])\n",
    "        \n",
    "    for i in range(len(wind_u)-10) :\n",
    "        p_wind_u.append(wind_u[i:i+11])\n",
    "\n",
    "    for i in range(len(wind_v)-10) :\n",
    "        p_wind_v.append(wind_v[i:i+11])\n",
    "        \n",
    "    np.savetxt('case' + cNum + '_velo_u.dat', p_velo_u, delimiter=\" \", fmt=\"%.4f\")\n",
    "    np.savetxt('case' + cNum + '_velo_v.dat', p_velo_v, delimiter=\" \", fmt=\"%.4f\")\n",
    "    np.savetxt('case' + cNum + '_wind_u.dat', p_wind_u, delimiter=\" \", fmt=\"%.4f\")\n",
    "    np.savetxt('case' + cNum + '_wind_v.dat', p_wind_v, delimiter=\" \", fmt=\"%.4f\")"
   ]
  },
  {
   "cell_type": "code",
   "execution_count": 3,
   "metadata": {
    "collapsed": false,
    "scrolled": true
   },
   "outputs": [],
   "source": [
    "# clist = ['01', '02', '03', '04', '05', '06', '07', '08']\n",
    "clist = ['01', '05', '06', '07']\n",
    "\n",
    "for cNum in clist :\n",
    "    data = open('./Data/Data2015/Test_case' + cNum + '.dat')\n",
    "    read_data = np.loadtxt(data)\n",
    "    data.close()\n",
    "\n",
    "    float_formatter = lambda x: \"%.4f\" % x\n",
    "    np.set_printoptions(formatter={'float_kind':float_formatter})\n",
    "\n",
    "    velo_u = read_data[:, 2]\n",
    "    velo_v = read_data[:, 3]\n",
    "    wind_u = read_data[:, 4]\n",
    "    wind_v = read_data[:, 5]\n",
    "        \n",
    "    np.savetxt('case' + cNum + '_velo_u.dat', velo_u, delimiter=\" \", fmt=\"%.4f\")\n",
    "    np.savetxt('case' + cNum + '_velo_v.dat', velo_v, delimiter=\" \", fmt=\"%.4f\")\n",
    "    np.savetxt('case' + cNum + '_wind_u.dat', wind_u, delimiter=\" \", fmt=\"%.4f\")\n",
    "    np.savetxt('case' + cNum + '_wind_v.dat', wind_v, delimiter=\" \", fmt=\"%.4f\")"
   ]
  },
  {
   "cell_type": "code",
   "execution_count": 9,
   "metadata": {
    "collapsed": false
   },
   "outputs": [
    {
     "data": {
      "text/plain": [
       "array([6.0221, 5.8157, 5.7996, 5.8156, 5.8761, 4.9134, 3.9826, 3.0603,\n",
       "       2.8986, 2.7372, 2.5727])"
      ]
     },
     "execution_count": 9,
     "metadata": {},
     "output_type": "execute_result"
    }
   ],
   "source": [
    "p_wind_u[0]"
   ]
  },
  {
   "cell_type": "code",
   "execution_count": 10,
   "metadata": {
    "collapsed": true
   },
   "outputs": [],
   "source": [
    "np.savetxt('case' + cNum + '_wind_u.dat', p_wind_u, delimiter=\" \", fmt=\"%.4f\")\n",
    "np.savetxt('case' + cNum + '_wind_v.dat', p_wind_v, delimiter=\" \", fmt=\"%.4f\")"
   ]
  },
  {
   "cell_type": "code",
   "execution_count": 75,
   "metadata": {
    "collapsed": true
   },
   "outputs": [],
   "source": [
    "writer  = pd.ExcelWriter('corr_wind_u.xlsx', engine='xlsxwriter')\n",
    "\n",
    "df = pd.DataFrame(p_wind_u)\n",
    "sheet_name = 'sheet1'\n",
    "df.to_excel(writer, sheet_name)\n",
    "\n",
    "writer.save()"
   ]
  },
  {
   "cell_type": "code",
   "execution_count": 13,
   "metadata": {
    "collapsed": true
   },
   "outputs": [],
   "source": [
    "writer  = pd.ExcelWriter('corr_wind_v.xlsx', engine='xlsxwriter')\n",
    "\n",
    "df = pd.DataFrame(p_wind_v)\n",
    "sheet_name = 'sheet1'\n",
    "df.to_excel(writer, sheet_name)\n",
    "\n",
    "writer.save()"
   ]
  },
  {
   "cell_type": "code",
   "execution_count": null,
   "metadata": {
    "collapsed": true
   },
   "outputs": [],
   "source": []
  }
 ],
 "metadata": {
  "kernelspec": {
   "display_name": "Python 3",
   "language": "python",
   "name": "python3"
  },
  "language_info": {
   "codemirror_mode": {
    "name": "ipython",
    "version": 3
   },
   "file_extension": ".py",
   "mimetype": "text/x-python",
   "name": "python",
   "nbconvert_exporter": "python",
   "pygments_lexer": "ipython3",
   "version": "3.6.0"
  }
 },
 "nbformat": 4,
 "nbformat_minor": 2
}
