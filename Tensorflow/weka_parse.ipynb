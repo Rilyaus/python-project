{
 "cells": [
  {
   "cell_type": "code",
   "execution_count": 1,
   "metadata": {
    "collapsed": true
   },
   "outputs": [],
   "source": [
    "import numpy as np\n",
    "import pandas as pd\n",
    "import xlsxwriter"
   ]
  },
  {
   "cell_type": "code",
   "execution_count": 2,
   "metadata": {
    "collapsed": true
   },
   "outputs": [],
   "source": [
    "float_formatter = lambda x: \"%.4f\" % x\n",
    "np.set_printoptions(formatter={'float_kind':float_formatter})\n"
   ]
  },
  {
   "cell_type": "code",
   "execution_count": 7,
   "metadata": {
    "collapsed": false
   },
   "outputs": [
    {
     "data": {
      "text/plain": [
       "0"
      ]
     },
     "execution_count": 7,
     "metadata": {},
     "output_type": "execute_result"
    }
   ],
   "source": [
    "data = open('./Data/Original2016/04-04-01.dat')\n",
    "read_data = np.loadtxt(data, skiprows=1)\n",
    "data.close()\n",
    "\n",
    "read_data_t = read_data[:, :]\n",
    "parse_data = np.zeros((read_data_t.shape[0]-1,read_data_t.shape[1]))\n",
    "for i in range(len(read_data)-1) :\n",
    "    #parse_data[i,0:4] = read_data_t[i, 0:4]\n",
    "    parse_data[i,4] = read_data_t[i+1,4] - read_data_t[i,4]\n",
    "    parse_data[i,5] = read_data_t[i+1,5] - read_data_t[i,5]\n",
    "    parse_data[i,6] = read_data_t[i+1,6] - read_data_t[i,6]\n",
    "    parse_data[i,7] = read_data_t[i+1,7] - read_data_t[i,7]\n",
    "    parse_data[i,8:] = read_data_t[i,8:]\n",
    "    \n",
    "for i in range(len(read_data)-1) :\n",
    "    parse_data[i, 0] = int(parse_data[i, 0])\n",
    "    \n",
    "#int(parse_data[i,0])"
   ]
  },
  {
   "cell_type": "code",
   "execution_count": 9,
   "metadata": {
    "collapsed": false
   },
   "outputs": [],
   "source": [
    "cNum = ['01', '02', '03', '04', '05', '06', '07', '08']\n",
    "\n",
    "for c in cNum :\n",
    "    data = open('./Data/Original2016/04-04-' + c + '.dat')\n",
    "    read_data = np.loadtxt(data, skiprows=1)\n",
    "    data.close()\n",
    "    \n",
    "    read_data_t = read_data[4:,10]\n",
    "    #read_data_t\n",
    "        \n",
    "    np.savetxt('./Data/Weka/Test_case' + c + '.dat', parse_data, delimiter=\" \", fmt=\"%.4f\")"
   ]
  },
  {
   "cell_type": "code",
   "execution_count": 10,
   "metadata": {
    "collapsed": false
   },
   "outputs": [
    {
     "ename": "IndexError",
     "evalue": "tuple index out of range",
     "output_type": "error",
     "traceback": [
      "\u001b[0;31m---------------------------------------------------------------------------\u001b[0m",
      "\u001b[0;31mIndexError\u001b[0m                                Traceback (most recent call last)",
      "\u001b[0;32m<ipython-input-10-f6638a05664e>\u001b[0m in \u001b[0;36m<module>\u001b[0;34m()\u001b[0m\n\u001b[1;32m      3\u001b[0m \u001b[1;31m#parse_data2 = np.empty((0, read_data_t.shape[1]-2))\u001b[0m\u001b[1;33m\u001b[0m\u001b[1;33m\u001b[0m\u001b[0m\n\u001b[1;32m      4\u001b[0m \u001b[1;32mfor\u001b[0m \u001b[0mc\u001b[0m \u001b[1;32min\u001b[0m \u001b[0mcNum\u001b[0m \u001b[1;33m:\u001b[0m\u001b[1;33m\u001b[0m\u001b[0m\n\u001b[0;32m----> 5\u001b[0;31m     \u001b[0mparse_data2\u001b[0m \u001b[1;33m=\u001b[0m \u001b[0mnp\u001b[0m\u001b[1;33m.\u001b[0m\u001b[0mempty\u001b[0m\u001b[1;33m(\u001b[0m\u001b[1;33m(\u001b[0m\u001b[1;36m0\u001b[0m\u001b[1;33m,\u001b[0m \u001b[0mread_data_t\u001b[0m\u001b[1;33m.\u001b[0m\u001b[0mshape\u001b[0m\u001b[1;33m[\u001b[0m\u001b[1;36m1\u001b[0m\u001b[1;33m]\u001b[0m\u001b[1;33m-\u001b[0m\u001b[1;36m2\u001b[0m\u001b[1;33m)\u001b[0m\u001b[1;33m)\u001b[0m\u001b[1;33m\u001b[0m\u001b[0m\n\u001b[0m\u001b[1;32m      6\u001b[0m     \u001b[1;32mfor\u001b[0m \u001b[0mc2\u001b[0m \u001b[1;32min\u001b[0m \u001b[0mcNum\u001b[0m \u001b[1;33m:\u001b[0m\u001b[1;33m\u001b[0m\u001b[0m\n\u001b[1;32m      7\u001b[0m         \u001b[1;32mif\u001b[0m \u001b[0mc2\u001b[0m \u001b[1;33m!=\u001b[0m \u001b[0mc\u001b[0m \u001b[1;33m:\u001b[0m\u001b[1;33m\u001b[0m\u001b[0m\n",
      "\u001b[0;31mIndexError\u001b[0m: tuple index out of range"
     ]
    }
   ],
   "source": [
    "cNum = ['01', '02', '03', '04', '05', '06', '07', '08']\n",
    "\n",
    "#parse_data2 = np.empty((0, read_data_t.shape[1]-2))\n",
    "for c in cNum :\n",
    "    parse_data2 = np.empty((0, read_data_t.shape[1]-2))\n",
    "    for c2 in cNum :\n",
    "        if c2 != c :\n",
    "            data = open('./Data/Original2016/04-04-' + c2 + '.dat')\n",
    "            read_data = np.loadtxt(data, skiprows=1)\n",
    "            data.close()\n",
    "\n",
    "            read_data_t = read_data[:,4:]\n",
    "            #read_data_t\n",
    "\n",
    "            parse_data = np.zeros((read_data_t.shape[0]-1,read_data_t.shape[1]-2))\n",
    "            for i in range(len(read_data)-1) :\n",
    "                parse_data[i,0] = read_data_t[i+1,0] - read_data_t[i,0]\n",
    "                parse_data[i,1] = read_data_t[i+1,1] - read_data_t[i,1]\n",
    "                #parse_data[i,2] = read_data_t[i+1,2] - read_data_t[i,2]\n",
    "                #parse_data[i,3] = read_data_t[i+1,3] - read_data_t[i,3]\n",
    "                parse_data[i,2:] = read_data_t[i,4:]\n",
    "                \n",
    "            parse_data2 = np.concatenate((parse_data2, parse_data))\n",
    "    np.savetxt('./Data/Train_case' + c + '.dat', parse_data2, delimiter=\" \", fmt=\"%.4f\")"
   ]
  },
  {
   "cell_type": "code",
   "execution_count": null,
   "metadata": {
    "collapsed": true
   },
   "outputs": [],
   "source": []
  }
 ],
 "metadata": {
  "kernelspec": {
   "display_name": "Python 3",
   "language": "python",
   "name": "python3"
  },
  "language_info": {
   "codemirror_mode": {
    "name": "ipython",
    "version": 3
   },
   "file_extension": ".py",
   "mimetype": "text/x-python",
   "name": "python",
   "nbconvert_exporter": "python",
   "pygments_lexer": "ipython3",
   "version": "3.6.0"
  }
 },
 "nbformat": 4,
 "nbformat_minor": 2
}
