{
 "cells": [
  {
   "cell_type": "code",
   "execution_count": 13,
   "metadata": {
    "collapsed": false,
    "scrolled": false
   },
   "outputs": [],
   "source": [
    "from io import StringIO\n",
    "from io import BytesIO\n",
    "from PIL import Image\n",
    "#from pyvirtualdisplay import Display\n",
    "from selenium import webdriver\n",
    "import base64\n",
    "import os\n",
    "import time\n",
    "\n",
    "#display = Display(visible=0, size=(1600, 27000))\n",
    "#display.start()\n",
    "\n",
    "#driver = webdriver.Chrome()\n",
    "driver = webdriver.PhantomJS(r'C:\\python\\phantomjs\\bin\\phantomjs.exe')\n",
    "\n",
    "driver.maximize_window()\n",
    "driver.get('http://rilyaus.com')\n",
    "\n",
    "title_num = driver.find_element_by_xpath('//span[@class=\"inning\"]')\n",
    "title = title_num.text"
   ]
  },
  {
   "cell_type": "code",
   "execution_count": 14,
   "metadata": {
    "collapsed": false
   },
   "outputs": [],
   "source": [
    "title_num = driver.find_element_by_xpath('//span[@class=\"inning\"]')\n",
    "xpath = '//div[@class=\"team-info\"]/div[@class=\"info-box\"]'\n",
    "element = driver.find_element_by_xpath(xpath)\n",
    "\n",
    "location, size = element.location_once_scrolled_into_view, element.size\n",
    "left, top = location['x'], location['y']+220\n",
    "width, height = size['width'], size['height']\n",
    "box = (int(left-10), int(top), int(left + width+10), int(top + height+10))\n",
    "\n",
    "screenshot_path = 'C:\\\\Users\\Rilyaus-nLab\\Dropbox\\PinMaster\\\\' + title + '.png'\n",
    "\n",
    "screenshot = driver.get_screenshot_as_base64()\n",
    "image = Image.open(BytesIO(base64.b64decode(screenshot)))\n",
    "output = image.crop(box)\n",
    "output.save(screenshot_path, 'PNG')\n",
    "\n",
    "#browser.quit()\n",
    "#display.stop()\n"
   ]
  },
  {
   "cell_type": "code",
   "execution_count": 15,
   "metadata": {
    "collapsed": true
   },
   "outputs": [],
   "source": [
    "driver.get('http://rilyaus.com/accrue_result.php')"
   ]
  },
  {
   "cell_type": "code",
   "execution_count": 16,
   "metadata": {
    "collapsed": false
   },
   "outputs": [],
   "source": [
    "title_num = driver.find_element_by_xpath('//span[@class=\"inning\"]')\n",
    "xpath = '//div[@class=\"team-info\"]/div[@class=\"info-box\"]'\n",
    "element = driver.find_element_by_xpath(xpath)\n",
    "\n",
    "location, size = element.location_once_scrolled_into_view, element.size\n",
    "left, top = location['x'], location['y']+220\n",
    "width, height = size['width'], size['height']\n",
    "box = (int(left-10), int(top), int(left + width+10), int(top + height+10))\n",
    "\n",
    "screenshot_path = 'C:\\\\Users\\Rilyaus-nLab\\Dropbox\\PinMaster\\\\' + title + '_total.png'\n",
    "\n",
    "screenshot = driver.get_screenshot_as_base64()\n",
    "image = Image.open(BytesIO(base64.b64decode(screenshot)))\n",
    "output = image.crop(box)\n",
    "output.save(screenshot_path, 'PNG')\n",
    "\n",
    "#browser.quit()\n",
    "#display.stop()\n"
   ]
  },
  {
   "cell_type": "code",
   "execution_count": 17,
   "metadata": {
    "collapsed": true
   },
   "outputs": [],
   "source": [
    "driver.quit()"
   ]
  },
  {
   "cell_type": "code",
   "execution_count": null,
   "metadata": {
    "collapsed": true
   },
   "outputs": [],
   "source": []
  }
 ],
 "metadata": {
  "kernelspec": {
   "display_name": "Python 3",
   "language": "python",
   "name": "python3"
  },
  "language_info": {
   "codemirror_mode": {
    "name": "ipython",
    "version": 3
   },
   "file_extension": ".py",
   "mimetype": "text/x-python",
   "name": "python",
   "nbconvert_exporter": "python",
   "pygments_lexer": "ipython3",
   "version": "3.6.0"
  }
 },
 "nbformat": 4,
 "nbformat_minor": 2
}
